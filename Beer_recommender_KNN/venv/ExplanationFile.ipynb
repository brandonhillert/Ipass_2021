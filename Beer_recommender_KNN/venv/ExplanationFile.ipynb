{
 "cells": [
  {
   "cell_type": "code",
   "execution_count": 20,
   "metadata": {},
   "outputs": [],
   "source": [
    "import pandas as pd\n",
    "import numpy as np\n",
    "import matplotlib.pyplot as plt\n",
    "from matplotlib.pyplot import figure"
   ]
  },
  {
   "cell_type": "markdown",
   "metadata": {},
   "source": [
    "<h1>Beer Recommender Analyse</h1>"
   ]
  },
  {
   "cell_type": "markdown",
   "metadata": {},
   "source": [
    "Voor het maken van het KNN algoritme heb ik even een analyse gedaan over hoe de dataset er ongeveer uit ziet. Dit heb ik gedaan doorgebruik te maken van jupyter notebook en een aantal libraries. Dit geeft mij een inzicht in hoe ik dit allemaal moet aanpakken voordat ik een algoritme ga programmeren \n"
   ]
  },
  {
   "cell_type": "code",
   "execution_count": 97,
   "metadata": {},
   "outputs": [
    {
     "data": {
      "text/html": [
       "<div>\n",
       "<style scoped>\n",
       "    .dataframe tbody tr th:only-of-type {\n",
       "        vertical-align: middle;\n",
       "    }\n",
       "\n",
       "    .dataframe tbody tr th {\n",
       "        vertical-align: top;\n",
       "    }\n",
       "\n",
       "    .dataframe thead th {\n",
       "        text-align: right;\n",
       "    }\n",
       "</style>\n",
       "<table border=\"1\" class=\"dataframe\">\n",
       "  <thead>\n",
       "    <tr style=\"text-align: right;\">\n",
       "      <th></th>\n",
       "      <th>Unnamed: 0</th>\n",
       "      <th>abv</th>\n",
       "      <th>ibu</th>\n",
       "      <th>id</th>\n",
       "      <th>name</th>\n",
       "      <th>style</th>\n",
       "      <th>brewery_id</th>\n",
       "      <th>ounces</th>\n",
       "    </tr>\n",
       "  </thead>\n",
       "  <tbody>\n",
       "    <tr>\n",
       "      <th>0</th>\n",
       "      <td>0</td>\n",
       "      <td>0.050</td>\n",
       "      <td>NaN</td>\n",
       "      <td>1436</td>\n",
       "      <td>Pub Beer</td>\n",
       "      <td>American Pale Lager</td>\n",
       "      <td>408</td>\n",
       "      <td>12.0</td>\n",
       "    </tr>\n",
       "    <tr>\n",
       "      <th>1</th>\n",
       "      <td>1</td>\n",
       "      <td>0.066</td>\n",
       "      <td>NaN</td>\n",
       "      <td>2265</td>\n",
       "      <td>Devil's Cup</td>\n",
       "      <td>American Pale Ale (APA)</td>\n",
       "      <td>177</td>\n",
       "      <td>12.0</td>\n",
       "    </tr>\n",
       "    <tr>\n",
       "      <th>2</th>\n",
       "      <td>2</td>\n",
       "      <td>0.071</td>\n",
       "      <td>NaN</td>\n",
       "      <td>2264</td>\n",
       "      <td>Rise of the Phoenix</td>\n",
       "      <td>American IPA</td>\n",
       "      <td>177</td>\n",
       "      <td>12.0</td>\n",
       "    </tr>\n",
       "    <tr>\n",
       "      <th>3</th>\n",
       "      <td>3</td>\n",
       "      <td>0.090</td>\n",
       "      <td>NaN</td>\n",
       "      <td>2263</td>\n",
       "      <td>Sinister</td>\n",
       "      <td>American Double / Imperial IPA</td>\n",
       "      <td>177</td>\n",
       "      <td>12.0</td>\n",
       "    </tr>\n",
       "    <tr>\n",
       "      <th>4</th>\n",
       "      <td>4</td>\n",
       "      <td>0.075</td>\n",
       "      <td>NaN</td>\n",
       "      <td>2262</td>\n",
       "      <td>Sex and Candy</td>\n",
       "      <td>American IPA</td>\n",
       "      <td>177</td>\n",
       "      <td>12.0</td>\n",
       "    </tr>\n",
       "  </tbody>\n",
       "</table>\n",
       "</div>"
      ],
      "text/plain": [
       "   Unnamed: 0    abv  ibu    id                 name  \\\n",
       "0           0  0.050  NaN  1436             Pub Beer   \n",
       "1           1  0.066  NaN  2265          Devil's Cup   \n",
       "2           2  0.071  NaN  2264  Rise of the Phoenix   \n",
       "3           3  0.090  NaN  2263             Sinister   \n",
       "4           4  0.075  NaN  2262        Sex and Candy   \n",
       "\n",
       "                            style  brewery_id  ounces  \n",
       "0             American Pale Lager         408    12.0  \n",
       "1         American Pale Ale (APA)         177    12.0  \n",
       "2                    American IPA         177    12.0  \n",
       "3  American Double / Imperial IPA         177    12.0  \n",
       "4                    American IPA         177    12.0  "
      ]
     },
     "execution_count": 97,
     "metadata": {},
     "output_type": "execute_result"
    }
   ],
   "source": [
    "beers = pd.read_csv('C:\\\\Users\\\\Brand\\\\Desktop\\\\vakken_v1A_2021\\\\Ipass_2021\\\\Dataset\\\\beers.csv' , delimiter=',')\n",
    "beers.head()"
   ]
  },
  {
   "cell_type": "markdown",
   "metadata": {},
   "source": [
    "<h1>Uitleg van alle kolomwaardes </h1>\n",
    "<br></br>\n",
    "\n",
    "<li> # -  Row number</li>\n",
    "<li> abv - The alcoholic content by volume with 0 being no alcohol and 1 being pure alcohol</li>\n",
    "<li> ibu - International bittering units, which describe how bitter a drink is.</li>\n",
    "<li> id - Unique ID</li>\n",
    "<li> name - Name of the beer.</li>\n",
    "<li> style - Beer style (lager, ale, IPA, etc.)</li>\n",
    "<li> brewery_id- Unique identifier for brewery that produces this beer; can use to join with brewery info.</li>\n",
    "<li> ounces - Size of beer in ounces.</li>\n"
   ]
  },
  {
   "cell_type": "markdown",
   "metadata": {},
   "source": [
    "<p><h2> Voor ons algoritme zijn lang niet alle waardes belangrijk. Het gaat bij een biertje namelijk vooral alleen om de:\n",
    "    <li> abv</li>\n",
    "    <li> ibu</li>\n",
    "    <li> style</li>\n",
    "</h2> </p>"
   ]
  },
  {
   "cell_type": "code",
   "execution_count": 62,
   "metadata": {},
   "outputs": [
    {
     "data": {
      "text/html": [
       "<div>\n",
       "<style scoped>\n",
       "    .dataframe tbody tr th:only-of-type {\n",
       "        vertical-align: middle;\n",
       "    }\n",
       "\n",
       "    .dataframe tbody tr th {\n",
       "        vertical-align: top;\n",
       "    }\n",
       "\n",
       "    .dataframe thead th {\n",
       "        text-align: right;\n",
       "    }\n",
       "</style>\n",
       "<table border=\"1\" class=\"dataframe\">\n",
       "  <thead>\n",
       "    <tr style=\"text-align: right;\">\n",
       "      <th></th>\n",
       "      <th>abv</th>\n",
       "      <th>ibu</th>\n",
       "      <th>style</th>\n",
       "    </tr>\n",
       "  </thead>\n",
       "  <tbody>\n",
       "    <tr>\n",
       "      <th>0</th>\n",
       "      <td>0.050</td>\n",
       "      <td>NaN</td>\n",
       "      <td>American Pale Lager</td>\n",
       "    </tr>\n",
       "    <tr>\n",
       "      <th>1</th>\n",
       "      <td>0.066</td>\n",
       "      <td>NaN</td>\n",
       "      <td>American Pale Ale (APA)</td>\n",
       "    </tr>\n",
       "    <tr>\n",
       "      <th>2</th>\n",
       "      <td>0.071</td>\n",
       "      <td>NaN</td>\n",
       "      <td>American IPA</td>\n",
       "    </tr>\n",
       "    <tr>\n",
       "      <th>3</th>\n",
       "      <td>0.090</td>\n",
       "      <td>NaN</td>\n",
       "      <td>American Double / Imperial IPA</td>\n",
       "    </tr>\n",
       "    <tr>\n",
       "      <th>4</th>\n",
       "      <td>0.075</td>\n",
       "      <td>NaN</td>\n",
       "      <td>American IPA</td>\n",
       "    </tr>\n",
       "    <tr>\n",
       "      <th>5</th>\n",
       "      <td>0.077</td>\n",
       "      <td>NaN</td>\n",
       "      <td>Oatmeal Stout</td>\n",
       "    </tr>\n",
       "    <tr>\n",
       "      <th>6</th>\n",
       "      <td>0.045</td>\n",
       "      <td>NaN</td>\n",
       "      <td>American Pale Ale (APA)</td>\n",
       "    </tr>\n",
       "    <tr>\n",
       "      <th>7</th>\n",
       "      <td>0.065</td>\n",
       "      <td>NaN</td>\n",
       "      <td>American Porter</td>\n",
       "    </tr>\n",
       "    <tr>\n",
       "      <th>8</th>\n",
       "      <td>0.055</td>\n",
       "      <td>NaN</td>\n",
       "      <td>American Pale Ale (APA)</td>\n",
       "    </tr>\n",
       "    <tr>\n",
       "      <th>9</th>\n",
       "      <td>0.086</td>\n",
       "      <td>NaN</td>\n",
       "      <td>American Double / Imperial IPA</td>\n",
       "    </tr>\n",
       "  </tbody>\n",
       "</table>\n",
       "</div>"
      ],
      "text/plain": [
       "     abv  ibu                           style\n",
       "0  0.050  NaN             American Pale Lager\n",
       "1  0.066  NaN         American Pale Ale (APA)\n",
       "2  0.071  NaN                    American IPA\n",
       "3  0.090  NaN  American Double / Imperial IPA\n",
       "4  0.075  NaN                    American IPA\n",
       "5  0.077  NaN                   Oatmeal Stout\n",
       "6  0.045  NaN         American Pale Ale (APA)\n",
       "7  0.065  NaN                 American Porter\n",
       "8  0.055  NaN         American Pale Ale (APA)\n",
       "9  0.086  NaN  American Double / Imperial IPA"
      ]
     },
     "execution_count": 62,
     "metadata": {},
     "output_type": "execute_result"
    }
   ],
   "source": [
    "df=beers[['abv','ibu','style']]\n",
    "df.head(10)"
   ]
  },
  {
   "cell_type": "code",
   "execution_count": 91,
   "metadata": {},
   "outputs": [
    {
     "name": "stdout",
     "output_type": "stream",
     "text": [
      "<class 'pandas.core.frame.DataFrame'>\n",
      "Int64Index: 1076 entries, 14 to 2408\n",
      "Data columns (total 3 columns):\n",
      " #   Column  Non-Null Count  Dtype  \n",
      "---  ------  --------------  -----  \n",
      " 0   abv     1076 non-null   float64\n",
      " 1   ibu     1076 non-null   float64\n",
      " 2   style   1076 non-null   object \n",
      "dtypes: float64(2), object(1)\n",
      "memory usage: 29.4+ KB\n"
     ]
    }
   ],
   "source": [
    "df.info()"
   ]
  },
  {
   "cell_type": "markdown",
   "metadata": {},
   "source": [
    "<h2> Hieronder staan alle waardes waar wij mee te maken hebben, zo is er te zien dat we veel verschillende producten hebben, maar minder soorten ( Style) bier. Producten kunnen dus dezelfde Style hebben. </h2>"
   ]
  },
  {
   "cell_type": "code",
   "execution_count": 57,
   "metadata": {},
   "outputs": [
    {
     "data": {
      "text/plain": [
       "array(['American Pale Lager', 'American Pale Ale (APA)', 'American IPA',\n",
       "       'American Double / Imperial IPA', 'Oatmeal Stout',\n",
       "       'American Porter', 'Saison / Farmhouse Ale', 'Belgian IPA',\n",
       "       'Cider', 'Baltic Porter', 'Tripel', 'American Barleywine',\n",
       "       'Winter Warmer', 'American Stout', 'Fruit / Vegetable Beer',\n",
       "       'English Strong Ale', 'American Black Ale', 'Belgian Dark Ale',\n",
       "       'American Blonde Ale', 'American Amber / Red Ale',\n",
       "       'Berliner Weissbier', 'American Brown Ale',\n",
       "       'American Pale Wheat Ale', 'Belgian Strong Dark Ale', 'Kölsch',\n",
       "       'English Pale Ale', 'American Amber / Red Lager',\n",
       "       'English Barleywine', 'Milk / Sweet Stout', 'German Pilsener',\n",
       "       'Pumpkin Ale', 'Belgian Pale Ale', 'American Pilsner',\n",
       "       'American Wild Ale', 'English Brown Ale', 'Altbier',\n",
       "       'California Common / Steam Beer', 'Gose', 'Cream Ale',\n",
       "       'Vienna Lager', 'Witbier', 'American Double / Imperial Stout',\n",
       "       'Munich Helles Lager', 'Schwarzbier', 'Märzen / Oktoberfest',\n",
       "       'Extra Special / Strong Bitter (ESB)', 'Rye Beer',\n",
       "       'Euro Dark Lager', 'Hefeweizen', 'Foreign / Export Stout', 'Other',\n",
       "       'English India Pale Ale (IPA)', 'Czech Pilsener',\n",
       "       'American Strong Ale', 'Mead', 'Euro Pale Lager',\n",
       "       'American White IPA', 'Dortmunder / Export Lager',\n",
       "       'Irish Dry Stout', 'Scotch Ale / Wee Heavy', 'Munich Dunkel Lager',\n",
       "       'Radler', 'Bock', 'English Dark Mild Ale', 'Irish Red Ale',\n",
       "       'Rauchbier', 'Bière de Garde', 'Doppelbock', 'Dunkelweizen',\n",
       "       'Belgian Strong Pale Ale', 'Dubbel', 'Quadrupel (Quad)',\n",
       "       'Russian Imperial Stout', 'English Pale Mild Ale',\n",
       "       'Maibock / Helles Bock', 'Herbed / Spiced Beer',\n",
       "       'American Adjunct Lager', 'Scottish Ale', nan, 'Smoked Beer',\n",
       "       'Light Lager', 'Abbey Single Ale', 'Roggenbier', 'Kristalweizen',\n",
       "       'American Dark Wheat Ale', 'English Stout', 'Old Ale',\n",
       "       'American Double / Imperial Pilsner', 'Flanders Red Ale',\n",
       "       'Keller Bier / Zwickel Bier', 'American India Pale Lager',\n",
       "       'Shandy', 'Wheat Ale', 'American Malt Liquor', 'English Bitter',\n",
       "       'Chile Beer', 'Grisette', 'Flanders Oud Bruin', 'Braggot',\n",
       "       'Low Alcohol Beer'], dtype=object)"
      ]
     },
     "execution_count": 57,
     "metadata": {},
     "output_type": "execute_result"
    }
   ],
   "source": [
    "df['style'].unique()"
   ]
  },
  {
   "cell_type": "markdown",
   "metadata": {},
   "source": [
    "<h2> Hieronder zijn alle ABV waardes te zien, die zitten tussen de 0.00 en de 0.128 </h2>"
   ]
  },
  {
   "cell_type": "code",
   "execution_count": 70,
   "metadata": {},
   "outputs": [
    {
     "data": {
      "text/plain": [
       "array([0.05 , 0.066, 0.071, 0.09 , 0.075, 0.077, 0.045, 0.065, 0.055,\n",
       "       0.086, 0.072, 0.073, 0.069, 0.085, 0.061, 0.06 , 0.082, 0.099,\n",
       "       0.079, 0.044, 0.049, 0.07 , 0.097, 0.068, 0.083, 0.059, 0.035,\n",
       "       0.046, 0.052, 0.054, 0.084, 0.038, 0.042, 0.08 , 0.125, 0.04 ,\n",
       "       0.076, 0.051, 0.053, 0.057, 0.043, 0.062, 0.056, 0.048, 0.058,\n",
       "       0.047, 0.092, 0.032, 0.064, 0.063, 0.067, 0.088, 0.078, 0.081,\n",
       "       0.095, 0.041, 0.098,   nan, 0.096, 0.093, 0.039, 0.089, 0.074,\n",
       "       0.027, 0.094, 0.087, 0.037, 0.034, 0.091, 0.1  , 0.12 , 0.001,\n",
       "       0.128, 0.104, 0.028])"
      ]
     },
     "execution_count": 70,
     "metadata": {},
     "output_type": "execute_result"
    }
   ],
   "source": [
    "df['abv'].unique()"
   ]
  },
  {
   "cell_type": "code",
   "execution_count": 68,
   "metadata": {},
   "outputs": [
    {
     "data": {
      "text/plain": [
       "array([ nan,  60.,  92.,  45.,  42.,  17.,  70.,  52.,  94.,  65.,  35.,\n",
       "        82.,  11.,  18.,  28.,  50.,  15.,  75.,  30.,  26.,  13.,  68.,\n",
       "        20.,  80.,  25.,  21.,  38.,  33.,  36., 103.,  40.,  43.,   4.,\n",
       "         6.,  19.,  23.,  55.,  10.,  27.,  69.,  67., 138., 115.,  12.,\n",
       "         8.,  62.,  22.,   5.,  41.,  46.,  48., 108.,  85.,  16.,  44.,\n",
       "        87.,  32.,  34., 104.,  54.,  81.,  76.,  83.,  47.,  51.,  37.,\n",
       "        72.,   7.,   9.,  64., 118.,  86.,  14., 100.,  24., 130.,  90.,\n",
       "        99.,  77.,  58., 126.,  29.,  71.,  31.,  49.,  74.,  61.,  53.,\n",
       "        97.,  73.,  66.,  95.,  93.,  88.,  98.,  39.,  78., 105., 111.,\n",
       "        57., 113., 110.,  91., 120., 101.,  63.,  89., 135.])"
      ]
     },
     "execution_count": 68,
     "metadata": {},
     "output_type": "execute_result"
    }
   ],
   "source": [
    "df['ibu'].unique()"
   ]
  },
  {
   "cell_type": "markdown",
   "metadata": {},
   "source": [
    "<h2> Het is ook intressant om te weten wat het gemiddelde abv van een biertje is: </h2>"
   ]
  },
  {
   "cell_type": "code",
   "execution_count": 63,
   "metadata": {},
   "outputs": [
    {
     "data": {
      "text/plain": [
       "0.05977342419080067"
      ]
     },
     "execution_count": 63,
     "metadata": {},
     "output_type": "execute_result"
    }
   ],
   "source": [
    "np.mean(beers['abv'])"
   ]
  },
  {
   "cell_type": "markdown",
   "metadata": {},
   "source": [
    "<h2> Hieronder zien we dat er eigenlijk maar 2 catergorieen zijn die deze dataset bevat, dat zijn bier"
   ]
  },
  {
   "cell_type": "code",
   "execution_count": 79,
   "metadata": {},
   "outputs": [
    {
     "data": {
      "image/png": "[encoded data removed]",
      "text/plain": [
       "<Figure size 720x720 with 1 Axes>"
      ]
     },
     "metadata": {
      "needs_background": "light"
     },
     "output_type": "display_data"
    }
   ],
   "source": [
    "x = beers['ibu']\n",
    "y = beers['abv']\n",
    "\n",
    "\n",
    "plt.figure(figsize=(10,10))\n",
    "\n",
    "plt.scatter(x, y)\n",
    "plt.show()"
   ]
  },
  {
   "cell_type": "markdown",
   "metadata": {},
   "source": [
    "<h2> Hierboven zien we alle soorten van de biertjes in de dataset. Zoals je ziet is ieder biertje anders. Het is nog wel heel druk in de grafiek. Ik heb zelf liever een kleinere selectie de grootste soorten met biertjes. Daarom kies ik alleen de bieren die vaker dan 10 keer voorkomen </h2>"
   ]
  },
  {
   "cell_type": "code",
   "execution_count": 85,
   "metadata": {},
   "outputs": [],
   "source": [
    "final=df.groupby('style').filter(lambda x: len(x) > 15)"
   ]
  },
  {
   "cell_type": "code",
   "execution_count": 86,
   "metadata": {},
   "outputs": [],
   "source": [
    "df = final.dropna()"
   ]
  },
  {
   "cell_type": "code",
   "execution_count": 92,
   "metadata": {},
   "outputs": [
    {
     "data": {
      "text/html": [
       "<div>\n",
       "<style scoped>\n",
       "    .dataframe tbody tr th:only-of-type {\n",
       "        vertical-align: middle;\n",
       "    }\n",
       "\n",
       "    .dataframe tbody tr th {\n",
       "        vertical-align: top;\n",
       "    }\n",
       "\n",
       "    .dataframe thead th {\n",
       "        text-align: right;\n",
       "    }\n",
       "</style>\n",
       "<table border=\"1\" class=\"dataframe\">\n",
       "  <thead>\n",
       "    <tr style=\"text-align: right;\">\n",
       "      <th></th>\n",
       "      <th>abv</th>\n",
       "      <th>ibu</th>\n",
       "      <th>style</th>\n",
       "    </tr>\n",
       "  </thead>\n",
       "  <tbody>\n",
       "    <tr>\n",
       "      <th>14</th>\n",
       "      <td>0.061</td>\n",
       "      <td>60.0</td>\n",
       "      <td>American Pale Ale (APA)</td>\n",
       "    </tr>\n",
       "    <tr>\n",
       "      <th>24</th>\n",
       "      <td>0.044</td>\n",
       "      <td>42.0</td>\n",
       "      <td>American Pale Ale (APA)</td>\n",
       "    </tr>\n",
       "    <tr>\n",
       "      <th>25</th>\n",
       "      <td>0.049</td>\n",
       "      <td>17.0</td>\n",
       "      <td>Fruit / Vegetable Beer</td>\n",
       "    </tr>\n",
       "    <tr>\n",
       "      <th>26</th>\n",
       "      <td>0.049</td>\n",
       "      <td>17.0</td>\n",
       "      <td>Fruit / Vegetable Beer</td>\n",
       "    </tr>\n",
       "    <tr>\n",
       "      <th>27</th>\n",
       "      <td>0.049</td>\n",
       "      <td>17.0</td>\n",
       "      <td>Fruit / Vegetable Beer</td>\n",
       "    </tr>\n",
       "    <tr>\n",
       "      <th>28</th>\n",
       "      <td>0.070</td>\n",
       "      <td>70.0</td>\n",
       "      <td>American IPA</td>\n",
       "    </tr>\n",
       "    <tr>\n",
       "      <th>29</th>\n",
       "      <td>0.070</td>\n",
       "      <td>70.0</td>\n",
       "      <td>American IPA</td>\n",
       "    </tr>\n",
       "    <tr>\n",
       "      <th>30</th>\n",
       "      <td>0.070</td>\n",
       "      <td>70.0</td>\n",
       "      <td>American IPA</td>\n",
       "    </tr>\n",
       "    <tr>\n",
       "      <th>32</th>\n",
       "      <td>0.097</td>\n",
       "      <td>94.0</td>\n",
       "      <td>American Double / Imperial IPA</td>\n",
       "    </tr>\n",
       "    <tr>\n",
       "      <th>33</th>\n",
       "      <td>0.044</td>\n",
       "      <td>42.0</td>\n",
       "      <td>American Pale Ale (APA)</td>\n",
       "    </tr>\n",
       "    <tr>\n",
       "      <th>35</th>\n",
       "      <td>0.068</td>\n",
       "      <td>65.0</td>\n",
       "      <td>American Black Ale</td>\n",
       "    </tr>\n",
       "    <tr>\n",
       "      <th>37</th>\n",
       "      <td>0.070</td>\n",
       "      <td>65.0</td>\n",
       "      <td>American IPA</td>\n",
       "    </tr>\n",
       "    <tr>\n",
       "      <th>38</th>\n",
       "      <td>0.049</td>\n",
       "      <td>17.0</td>\n",
       "      <td>Fruit / Vegetable Beer</td>\n",
       "    </tr>\n",
       "    <tr>\n",
       "      <th>39</th>\n",
       "      <td>0.070</td>\n",
       "      <td>82.0</td>\n",
       "      <td>American IPA</td>\n",
       "    </tr>\n",
       "    <tr>\n",
       "      <th>43</th>\n",
       "      <td>0.045</td>\n",
       "      <td>18.0</td>\n",
       "      <td>American Blonde Ale</td>\n",
       "    </tr>\n",
       "  </tbody>\n",
       "</table>\n",
       "</div>"
      ],
      "text/plain": [
       "      abv   ibu                           style\n",
       "14  0.061  60.0         American Pale Ale (APA)\n",
       "24  0.044  42.0         American Pale Ale (APA)\n",
       "25  0.049  17.0          Fruit / Vegetable Beer\n",
       "26  0.049  17.0          Fruit / Vegetable Beer\n",
       "27  0.049  17.0          Fruit / Vegetable Beer\n",
       "28  0.070  70.0                    American IPA\n",
       "29  0.070  70.0                    American IPA\n",
       "30  0.070  70.0                    American IPA\n",
       "32  0.097  94.0  American Double / Imperial IPA\n",
       "33  0.044  42.0         American Pale Ale (APA)\n",
       "35  0.068  65.0              American Black Ale\n",
       "37  0.070  65.0                    American IPA\n",
       "38  0.049  17.0          Fruit / Vegetable Beer\n",
       "39  0.070  82.0                    American IPA\n",
       "43  0.045  18.0             American Blonde Ale"
      ]
     },
     "execution_count": 92,
     "metadata": {},
     "output_type": "execute_result"
    }
   ],
   "source": [
    "df.head(15)"
   ]
  },
  {
   "cell_type": "code",
   "execution_count": 88,
   "metadata": {},
   "outputs": [
    {
     "data": {
      "text/plain": [
       "array(['American Pale Ale (APA)', 'Fruit / Vegetable Beer',\n",
       "       'American IPA', 'American Double / Imperial IPA',\n",
       "       'American Black Ale', 'American Blonde Ale',\n",
       "       'American Pale Wheat Ale', 'Kölsch', 'American Amber / Red Lager',\n",
       "       'American Brown Ale', 'German Pilsener', 'Saison / Farmhouse Ale',\n",
       "       'American Stout', 'Cream Ale', 'American Amber / Red Ale',\n",
       "       'American Porter', 'Witbier', 'Märzen / Oktoberfest',\n",
       "       'American Pale Lager', 'Hefeweizen', 'Czech Pilsener'],\n",
       "      dtype=object)"
      ]
     },
     "execution_count": 88,
     "metadata": {},
     "output_type": "execute_result"
    }
   ],
   "source": [
    "df['style'].unique()"
   ]
  },
  {
   "cell_type": "code",
   "execution_count": 98,
   "metadata": {},
   "outputs": [
    {
     "data": {
      "text/plain": [
       "14    American Pale Ale (APA)\n",
       "24    American Pale Ale (APA)\n",
       "25     Fruit / Vegetable Beer\n",
       "26     Fruit / Vegetable Beer\n",
       "27     Fruit / Vegetable Beer\n",
       "Name: style, dtype: object"
      ]
     },
     "execution_count": 98,
     "metadata": {},
     "output_type": "execute_result"
    }
   ],
   "source": [
    "df.head()"
   ]
  },
  {
   "cell_type": "code",
   "execution_count": 141,
   "metadata": {},
   "outputs": [
    {
     "data": {
      "image/png": "[encoded data removed]",
      "text/plain": [
       "<Figure size 720x720 with 1 Axes>"
      ]
     },
     "metadata": {
      "needs_background": "light"
     },
     "output_type": "display_data"
    }
   ],
   "source": [
    "x = df['ibu']\n",
    "y = df['abv']\n",
    "\n",
    "\n",
    "plt.figure(figsize=(10,10))\n",
    "\n",
    "plt.scatter(x, y)\n",
    "plt.show()\n"
   ]
  },
  {
   "cell_type": "markdown",
   "metadata": {},
   "source": [
    "<h2> De waardes zijn nu beter verspreid, als we er een kleur aan toevoegen kunnen we zien hoe de verschillende soorten bieren verdeeld zijn over de grafiek</h2>"
   ]
  },
  {
   "cell_type": "code",
   "execution_count": 175,
   "metadata": {},
   "outputs": [
    {
     "data": {
      "image/png": "[encoded data removed]",
      "text/plain": [
       "<Figure size 432x288 with 1 Axes>"
      ]
     },
     "metadata": {
      "needs_background": "light"
     },
     "output_type": "display_data"
    },
    {
     "data": {
      "text/plain": [
       "<Figure size 720x720 with 0 Axes>"
      ]
     },
     "metadata": {},
     "output_type": "display_data"
    }
   ],
   "source": [
    "style = df.groupby(df['style'])\n",
    "for name, style in style:\n",
    "    plt.plot(style.ibu , style.abv, marker='o', linestyle='', markersize=6, label=name)\n",
    "\n",
    "    \n",
    "plt.legend(loc=1, prop={'size': 5})\n",
    "plt.figure(figsize=(10,10))\n",
    "plt.show()\n",
    "\n",
    "\n"
   ]
  },
  {
   "cell_type": "markdown",
   "metadata": {},
   "source": [
    "<h2> Er blijven 1076 waardes over om mee te werken. Ik vind dit zelf voor het algoritme op het moment genoeg en het zorgt ervoor dat het overzichtelijkblijft. Met deze data zal ik vervolgens gaan werken om het KNN algoritme te schrijven </h2>\n"
   ]
  },
  {
   "cell_type": "code",
   "execution_count": 102,
   "metadata": {},
   "outputs": [
    {
     "data": {
      "text/plain": [
       "abv      1076\n",
       "ibu      1076\n",
       "style    1076\n",
       "dtype: int64"
      ]
     },
     "execution_count": 102,
     "metadata": {},
     "output_type": "execute_result"
    }
   ],
   "source": [
    "df.count()"
   ]
  },
  {
   "cell_type": "code",
   "execution_count": 104,
   "metadata": {},
   "outputs": [
    {
     "name": "stdout",
     "output_type": "stream",
     "text": [
      "<class 'pandas.core.frame.DataFrame'>\n",
      "Int64Index: 1076 entries, 14 to 2408\n",
      "Data columns (total 3 columns):\n",
      " #   Column  Non-Null Count  Dtype  \n",
      "---  ------  --------------  -----  \n",
      " 0   abv     1076 non-null   float64\n",
      " 1   ibu     1076 non-null   float64\n",
      " 2   style   1076 non-null   object \n",
      "dtypes: float64(2), object(1)\n",
      "memory usage: 29.4+ KB\n"
     ]
    }
   ],
   "source": [
    "df.info()"
   ]
  },
  {
   "cell_type": "code",
   "execution_count": 109,
   "metadata": {},
   "outputs": [
    {
     "data": {
      "text/plain": [
       "False"
      ]
     },
     "execution_count": 109,
     "metadata": {},
     "output_type": "execute_result"
    }
   ],
   "source": [
    "df['abv'].isnull().values.any()\n",
    "\n"
   ]
  },
  {
   "cell_type": "code",
   "execution_count": 110,
   "metadata": {},
   "outputs": [
    {
     "data": {
      "text/plain": [
       "False"
      ]
     },
     "execution_count": 110,
     "metadata": {},
     "output_type": "execute_result"
    }
   ],
   "source": [
    "df['ibu'].isnull().values.any()"
   ]
  },
  {
   "cell_type": "code",
   "execution_count": 111,
   "metadata": {},
   "outputs": [
    {
     "data": {
      "text/plain": [
       "False"
      ]
     },
     "execution_count": 111,
     "metadata": {},
     "output_type": "execute_result"
    }
   ],
   "source": [
    "df['style'].isnull().values.any()"
   ]
  },
  {
   "cell_type": "markdown",
   "metadata": {},
   "source": [
    "<h2> De informatie hierboven geeft ook aan dat de dataset helemaal compleet is en er geen waardes ontbreken. Dat is fijn want dan lopen we tijdens het programmeren niet aan tegen fouten oid. </h2>"
   ]
  },
  {
   "cell_type": "code",
   "execution_count": null,
   "metadata": {},
   "outputs": [],
   "source": []
  }
 ],
 "metadata": {
  "kernelspec": {
   "display_name": "Python 3",
   "language": "python",
   "name": "python3"
  },
  "language_info": {
   "codemirror_mode": {
    "name": "ipython",
    "version": 3
   },
   "file_extension": ".py",
   "mimetype": "text/x-python",
   "name": "python",
   "nbconvert_exporter": "python",
   "pygments_lexer": "ipython3",
   "version": "3.7.4"
  },
  "pycharm": {
   "stem_cell": {
    "cell_type": "raw",
    "metadata": {
     "collapsed": false
    },
    "source": []
   }
  }
 },
 "nbformat": 4,
 "nbformat_minor": 1
}
