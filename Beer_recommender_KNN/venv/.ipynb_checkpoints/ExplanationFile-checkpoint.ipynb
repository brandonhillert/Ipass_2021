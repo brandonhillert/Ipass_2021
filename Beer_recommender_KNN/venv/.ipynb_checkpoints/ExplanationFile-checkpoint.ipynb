{
 "cells": [
  {
   "cell_type": "code",
   "execution_count": 4,
   "metadata": {},
   "outputs": [
    {
     "name": "stderr",
     "output_type": "stream",
     "text": [
      "c:\\users\\brand\\appdata\\local\\programs\\python\\python37-32\\lib\\site-packages\\ipykernel_launcher.py:4: ParserWarning: Falling back to the 'python' engine because the 'c' engine does not support regex separators (separators > 1 char and different from '\\s+' are interpreted as regex); you can avoid this warning by specifying engine='python'.\n",
      "  after removing the cwd from sys.path.\n"
     ]
    },
    {
     "data": {
      "text/html": [
       "<div>\n",
       "<style scoped>\n",
       "    .dataframe tbody tr th:only-of-type {\n",
       "        vertical-align: middle;\n",
       "    }\n",
       "\n",
       "    .dataframe tbody tr th {\n",
       "        vertical-align: top;\n",
       "    }\n",
       "\n",
       "    .dataframe thead th {\n",
       "        text-align: right;\n",
       "    }\n",
       "</style>\n",
       "<table border=\"1\" class=\"dataframe\">\n",
       "  <thead>\n",
       "    <tr style=\"text-align: right;\">\n",
       "      <th></th>\n",
       "      <th>\"Product\",\"Brand\",\"Category\",\"Style\",\"Quantity\",\"Quantity Units\",\"Volume\",\"Package\",\"ABV\",\"Units of Alcohol\",\"Units (4 Decimal Places)\",\"Units per 100ml\"</th>\n",
       "    </tr>\n",
       "  </thead>\n",
       "  <tbody>\n",
       "    <tr>\n",
       "      <th>0</th>\n",
       "      <td>\"13 Guns\",\"Crafty Dan\",Beer,IPA,330,ml,330,bot...</td>\n",
       "    </tr>\n",
       "    <tr>\n",
       "      <th>1</th>\n",
       "      <td>\"13 Guns\",\"Crafty Dan\",Beer,IPA,330,ml,330,can...</td>\n",
       "    </tr>\n",
       "    <tr>\n",
       "      <th>2</th>\n",
       "      <td>\"13 Guns\",\"Crafty Dan\",Beer,IPA,1,pint,568,dra...</td>\n",
       "    </tr>\n",
       "    <tr>\n",
       "      <th>3</th>\n",
       "      <td>\"Abbot Ale\",\"Greene King\",Beer,Ale,500,ml,500,...</td>\n",
       "    </tr>\n",
       "    <tr>\n",
       "      <th>4</th>\n",
       "      <td>\"Abbot Ale\",\"Greene King\",Beer,Beer,1,pint,568...</td>\n",
       "    </tr>\n",
       "  </tbody>\n",
       "</table>\n",
       "</div>"
      ],
      "text/plain": [
       "  \"Product\",\"Brand\",\"Category\",\"Style\",\"Quantity\",\"Quantity Units\",\"Volume\",\"Package\",\"ABV\",\"Units of Alcohol\",\"Units (4 Decimal Places)\",\"Units per 100ml\"\n",
       "0  \"13 Guns\",\"Crafty Dan\",Beer,IPA,330,ml,330,bot...                                                                                                       \n",
       "1  \"13 Guns\",\"Crafty Dan\",Beer,IPA,330,ml,330,can...                                                                                                       \n",
       "2  \"13 Guns\",\"Crafty Dan\",Beer,IPA,1,pint,568,dra...                                                                                                       \n",
       "3  \"Abbot Ale\",\"Greene King\",Beer,Ale,500,ml,500,...                                                                                                       \n",
       "4  \"Abbot Ale\",\"Greene King\",Beer,Beer,1,pint,568...                                                                                                       "
      ]
     },
     "execution_count": 4,
     "metadata": {},
     "output_type": "execute_result"
    }
   ],
   "source": [
    "import pandas as pd\n",
    "import numpy as np\n",
    "\n",
    "beer = pd.read_csv('open_units.csv', delimiter=';')\n",
    "beer.head()\n"
   ]
  },
  {
   "cell_type": "code",
   "execution_count": null,
   "metadata": {},
   "outputs": [],
   "source": []
  }
 ],
 "metadata": {
  "kernelspec": {
   "display_name": "Python 3",
   "language": "python",
   "name": "python3"
  },
  "pycharm": {
   "stem_cell": {
    "cell_type": "raw",
    "metadata": {
     "collapsed": false
    },
    "source": []
   }
  }
 },
 "nbformat": 4,
 "nbformat_minor": 1
}
